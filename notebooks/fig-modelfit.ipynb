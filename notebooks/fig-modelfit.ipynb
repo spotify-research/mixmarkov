{
 "cells": [
  {
   "cell_type": "markdown",
   "metadata": {},
   "source": [
    "# Model fit\n",
    "\n",
    "Measured through negative log-likelihood on a test set."
   ]
  },
  {
   "cell_type": "code",
   "execution_count": 1,
   "metadata": {},
   "outputs": [],
   "source": [
    "%matplotlib inline\n",
    "\n",
    "import matplotlib.pyplot as plt\n",
    "import numpy as np\n",
    "\n",
    "from mixmarkov.plotting import setup_plotting"
   ]
  },
  {
   "cell_type": "code",
   "execution_count": 2,
   "metadata": {},
   "outputs": [
    {
     "name": "stdout",
     "output_type": "stream",
     "text": [
      "Plotting settings loaded!\n"
     ]
    }
   ],
   "source": [
    "setup_plotting()"
   ]
  },
  {
   "cell_type": "code",
   "execution_count": 3,
   "metadata": {},
   "outputs": [],
   "source": [
    "data = [\n",
    "    {\n",
    "        \"name\": \"sleep\",\n",
    "        \"vals\": (\n",
    "            (\"CTMC\", 255.307),\n",
    "            (\"RNN\", 251.010),\n",
    "            (\"Fin. mix.\", 250.613),\n",
    "            (\"Inf. mix.\", 249.733),\n",
    "        )\n",
    "    },\n",
    "    {\n",
    "        \"name\": \"venticu\",\n",
    "        \"vals\": (\n",
    "            (\"CTMC\", 5.764),\n",
    "            (\"RNN\", 5.767),\n",
    "            (\"Fin. mix.\", 5.738),\n",
    "            (\"Inf. mix.\", 5.737),\n",
    "        )\n",
    "    },\n",
    "    {\n",
    "        \"name\": \"ebmt\",\n",
    "        \"vals\": (\n",
    "            (\"CTMC\", 12.346),\n",
    "            (\"RNN\", 12.945),\n",
    "            (\"Fin. mix\", 10.792),\n",
    "            (\"Inf. mix.\", 9.918),\n",
    "        )\n",
    "    },\n",
    "    {\n",
    "        \"name\": \"customers\",\n",
    "        \"vals\": (\n",
    "            (\"DTMC\", 4.888),\n",
    "            (\"RNN\", 4.476),\n",
    "            (\"Fin. mix.\", 4.503),\n",
    "            (\"Inf. mix.\", 4.420),\n",
    "        )\n",
    "    },\n",
    "]"
   ]
  },
  {
   "cell_type": "code",
   "execution_count": 4,
   "metadata": {},
   "outputs": [
    {
     "data": {
      "image/png": "[encoded data removed]",
      "text/plain": [
       "<Figure size 1230x210 with 4 Axes>"
      ]
     },
     "metadata": {
      "needs_background": "light"
     },
     "output_type": "display_data"
    }
   ],
   "source": [
    "fig, axs = plt.subplots(nrows=1, ncols=4, figsize=(8.2, 1.4))\n",
    "\n",
    "for i, ax in enumerate(axs.ravel()):\n",
    "    labels, ys = map(np.array, zip(*data[i][\"vals\"]))\n",
    "    idx = np.arange(len(labels))\n",
    "    bars = ax.bar(idx, ys, width=0.7, color=plt.cm.Paired(0))\n",
    "    bars[-1].set_color(plt.cm.Paired(1))\n",
    "    top = 1.15 * np.max(ys)\n",
    "    ax.set_title(data[i][\"name\"], pad=4.0)\n",
    "    #ax.set_yticks(data[i][\"ticks\"])\n",
    "    ymin = ys.min()\n",
    "    ymax = ys.max()\n",
    "    bottom = ymin - (ymax - ymin) * 0.3\n",
    "    top = ymax + (ymax - ymin) * 0.1\n",
    "    ax.set_ylim(bottom=bottom, top=top)\n",
    "    ax.set_xticks(idx)\n",
    "    ax.set_xticklabels(labels, ha=\"right\", rotation=30)\n",
    "    ax.grid(axis=\"y\", lw=0.5)\n",
    "    ax.set_axisbelow(True)\n",
    "    ax.tick_params(axis='y', labelsize=6, pad=1.5)\n",
    "    ax.tick_params(axis='x', labelsize=7, pad=1.0)\n",
    "    \n",
    "axs[0].set_ylabel(r\"Predictive NLL\")\n",
    "\n",
    "fig.subplots_adjust(wspace=0.25)\n",
    "fig.savefig(\"modelfit.pdf\", bbox_inches=\"tight\")"
   ]
  }
 ],
 "metadata": {
  "kernelspec": {
   "display_name": "Python 3 (ipykernel)",
   "language": "python",
   "name": "python3"
  },
  "language_info": {
   "codemirror_mode": {
    "name": "ipython",
    "version": 3
   },
   "file_extension": ".py",
   "mimetype": "text/x-python",
   "name": "python",
   "nbconvert_exporter": "python",
   "pygments_lexer": "ipython3",
   "version": "3.8.13"
  }
 },
 "nbformat": 4,
 "nbformat_minor": 4
}
