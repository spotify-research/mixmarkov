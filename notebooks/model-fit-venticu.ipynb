{
 "cells": [
  {
   "cell_type": "markdown",
   "metadata": {},
   "source": [
    "# Mechanical Ventilation in an Intensive Care Unit\n",
    "\n",
    "- available at: <https://www.math.uwaterloo.ca/~rjcook/cook-lawless-multistate_data.html>\n",
    "- used in `cook2018multistate`"
   ]
  },
  {
   "cell_type": "code",
   "execution_count": 1,
   "metadata": {},
   "outputs": [],
   "source": [
    "import jax\n",
    "jax.config.update('jax_platform_name', 'cpu')\n",
    "\n",
    "import collections\n",
    "import matplotlib.pyplot as plt\n",
    "import numpy as np\n",
    "\n",
    "from mixmarkov import (\n",
    "    CTMC,\n",
    "    FiniteMixCTMC,\n",
    "    GamMixCTMC,\n",
    "    MGamMixCTMC,\n",
    "    summarize_sequences,\n",
    ")\n",
    "from mixmarkov.baselines import CTRNN, seqs_to_tensor\n",
    "from mixmarkov.utils import draw_chain"
   ]
  },
  {
   "cell_type": "markdown",
   "metadata": {},
   "source": [
    "## Loading the data\n",
    "\n",
    "- `id`: identifier of patient\n",
    "- `age`: age (in years)\n",
    "- `sex.female`: 0 if male, 1 if female\n",
    "- `enum`: enumerates lines for a given patient\n",
    "- `from`: source state\n",
    "- `to`: destination state\n",
    "- `estart`: beginning of at-risk period\n",
    "- `estop`: end of at-risk period\n",
    "\n",
    "states:\n",
    "\n",
    "- 1: ventilation off\n",
    "- 2: ventilation on\n",
    "- 3: discharge from ICU\n",
    "- 4: death\n",
    "\n",
    "999 is used for right-censoring."
   ]
  },
  {
   "cell_type": "code",
   "execution_count": 2,
   "metadata": {},
   "outputs": [],
   "source": [
    "seqs = list()\n",
    "\n",
    "with open(\"../data/ventICU.dat\") as f:\n",
    "    next(f)  # First line is header.\n",
    "    cur = None\n",
    "    for line in f:\n",
    "        idx, age, sex, _, src, dst, estart, estop = line.strip().split(\" \")\n",
    "        src = int(src) - 1\n",
    "        dst = int(dst) - 1\n",
    "        if idx != cur:\n",
    "            if cur is not None:\n",
    "                seqs.append(seq)\n",
    "            seq = list()\n",
    "            cur = idx\n",
    "            seq.append((src, float(estart)))\n",
    "        if dst == 999 - 1:\n",
    "            dst = src\n",
    "        seq.append((dst, float(estop)))\n",
    "    seqs.append(seq)\n",
    "    \n",
    "# Shuffle the sequences.\n",
    "rng = np.random.default_rng(seed=0)\n",
    "idx = rng.permutation(len(seqs))\n",
    "seqs = np.array(seqs, dtype=object)[idx]"
   ]
  },
  {
   "cell_type": "code",
   "execution_count": 3,
   "metadata": {},
   "outputs": [
    {
     "name": "stdout",
     "output_type": "stream",
     "text": [
      "# states: 4\n",
      "# sequences: 747\n",
      "# edges: 6\n"
     ]
    },
    {
     "data": {
      "image/png": "[encoded data removed]",
      "text/plain": [
       "<Figure size 432x432 with 1 Axes>"
      ]
     },
     "metadata": {},
     "output_type": "display_data"
    }
   ],
   "source": [
    "n = 4\n",
    "ks, _ = summarize_sequences(seqs, n)\n",
    "mask = np.sum(ks, axis=0).astype(bool)\n",
    "np.fill_diagonal(mask, False)  # Remove self-transitions\n",
    "\n",
    "print(f\"# states: {n:,}\")\n",
    "print(f\"# sequences: {len(seqs):,}\")\n",
    "print(f\"# edges: {mask.sum():,}\")\n",
    "\n",
    "draw_chain(mask)"
   ]
  },
  {
   "cell_type": "markdown",
   "metadata": {},
   "source": [
    "## Final evaluation"
   ]
  },
  {
   "cell_type": "code",
   "execution_count": 4,
   "metadata": {
    "scrolled": true
   },
   "outputs": [
    {
     "name": "stdout",
     "output_type": "stream",
     "text": [
      "Optimization terminated successfully.\n",
      "         Current function value: 3855.494756\n",
      "         Iterations: 13\n",
      "         Function evaluations: 14\n",
      "         Gradient evaluations: 14\n",
      "         Hessian evaluations: 13\n",
      "Optimization terminated successfully.\n",
      "         Current function value: 4090.313417\n",
      "         Iterations: 15\n",
      "         Function evaluations: 17\n",
      "         Gradient evaluations: 17\n",
      "         Hessian evaluations: 15\n",
      "Warning: Desired error not necessarily achieved due to precision loss.\n",
      "         Current function value: 3839.053182\n",
      "         Iterations: 32\n",
      "         Function evaluations: 57\n",
      "         Gradient evaluations: 48\n",
      "         Hessian evaluations: 33\n",
      "Optimization terminated successfully.\n",
      "         Current function value: 3876.503330\n",
      "         Iterations: 13\n",
      "         Function evaluations: 14\n",
      "         Gradient evaluations: 14\n",
      "         Hessian evaluations: 13\n",
      "Optimization terminated successfully.\n",
      "         Current function value: 4106.193388\n",
      "         Iterations: 14\n",
      "         Function evaluations: 16\n",
      "         Gradient evaluations: 16\n",
      "         Hessian evaluations: 14\n",
      "Optimization terminated successfully.\n",
      "         Current function value: 3855.803658\n",
      "         Iterations: 24\n",
      "         Function evaluations: 30\n",
      "         Gradient evaluations: 30\n",
      "         Hessian evaluations: 24\n",
      "Optimization terminated successfully.\n",
      "         Current function value: 3920.345185\n",
      "         Iterations: 14\n",
      "         Function evaluations: 15\n",
      "         Gradient evaluations: 15\n",
      "         Hessian evaluations: 14\n",
      "Optimization terminated successfully.\n",
      "         Current function value: 4155.379842\n",
      "         Iterations: 14\n",
      "         Function evaluations: 44\n",
      "         Gradient evaluations: 42\n",
      "         Hessian evaluations: 14\n",
      "Warning: Desired error not necessarily achieved due to precision loss.\n",
      "         Current function value: 3899.233182\n",
      "         Iterations: 36\n",
      "         Function evaluations: 62\n",
      "         Gradient evaluations: 50\n",
      "         Hessian evaluations: 37\n",
      "Optimization terminated successfully.\n",
      "         Current function value: 3890.864725\n",
      "         Iterations: 12\n",
      "         Function evaluations: 13\n",
      "         Gradient evaluations: 13\n",
      "         Hessian evaluations: 12\n",
      "Optimization terminated successfully.\n",
      "         Current function value: 4124.391686\n",
      "         Iterations: 14\n",
      "         Function evaluations: 16\n",
      "         Gradient evaluations: 16\n",
      "         Hessian evaluations: 14\n",
      "Warning: Desired error not necessarily achieved due to precision loss.\n",
      "         Current function value: 3870.091834\n",
      "         Iterations: 31\n",
      "         Function evaluations: 78\n",
      "         Gradient evaluations: 65\n",
      "         Hessian evaluations: 32\n",
      "Optimization terminated successfully.\n",
      "         Current function value: 3889.952057\n",
      "         Iterations: 14\n",
      "         Function evaluations: 15\n",
      "         Gradient evaluations: 15\n",
      "         Hessian evaluations: 14\n",
      "Optimization terminated successfully.\n",
      "         Current function value: 4124.882360\n",
      "         Iterations: 14\n",
      "         Function evaluations: 16\n",
      "         Gradient evaluations: 16\n",
      "         Hessian evaluations: 14\n",
      "Warning: Desired error not necessarily achieved due to precision loss.\n",
      "         Current function value: 3871.249138\n",
      "         Iterations: 35\n",
      "         Function evaluations: 53\n",
      "         Gradient evaluations: 48\n",
      "         Hessian evaluations: 36\n",
      "Optimization terminated successfully.\n",
      "         Current function value: 3863.852371\n",
      "         Iterations: 14\n",
      "         Function evaluations: 15\n",
      "         Gradient evaluations: 15\n",
      "         Hessian evaluations: 14\n",
      "Optimization terminated successfully.\n",
      "         Current function value: 4102.367696\n",
      "         Iterations: 14\n",
      "         Function evaluations: 15\n",
      "         Gradient evaluations: 15\n",
      "         Hessian evaluations: 14\n",
      "Optimization terminated successfully.\n",
      "         Current function value: 3841.079483\n",
      "         Iterations: 26\n",
      "         Function evaluations: 38\n",
      "         Gradient evaluations: 38\n",
      "         Hessian evaluations: 26\n",
      "Optimization terminated successfully.\n",
      "         Current function value: 3846.253802\n",
      "         Iterations: 13\n",
      "         Function evaluations: 14\n",
      "         Gradient evaluations: 14\n",
      "         Hessian evaluations: 13\n",
      "Optimization terminated successfully.\n",
      "         Current function value: 4081.833515\n",
      "         Iterations: 15\n",
      "         Function evaluations: 16\n",
      "         Gradient evaluations: 16\n",
      "         Hessian evaluations: 15\n",
      "Optimization terminated successfully.\n",
      "         Current function value: 3824.197621\n",
      "         Iterations: 30\n",
      "         Function evaluations: 41\n",
      "         Gradient evaluations: 41\n",
      "         Hessian evaluations: 30\n",
      "Optimization terminated successfully.\n",
      "         Current function value: 3889.443494\n",
      "         Iterations: 12\n",
      "         Function evaluations: 13\n",
      "         Gradient evaluations: 13\n",
      "         Hessian evaluations: 12\n",
      "Optimization terminated successfully.\n",
      "         Current function value: 4133.149346\n",
      "         Iterations: 13\n",
      "         Function evaluations: 14\n",
      "         Gradient evaluations: 14\n",
      "         Hessian evaluations: 13\n",
      "Optimization terminated successfully.\n",
      "         Current function value: 3872.644905\n",
      "         Iterations: 23\n",
      "         Function evaluations: 28\n",
      "         Gradient evaluations: 28\n",
      "         Hessian evaluations: 23\n",
      "Optimization terminated successfully.\n",
      "         Current function value: 3792.416291\n",
      "         Iterations: 13\n",
      "         Function evaluations: 14\n",
      "         Gradient evaluations: 14\n",
      "         Hessian evaluations: 13\n",
      "Optimization terminated successfully.\n",
      "         Current function value: 4022.415901\n",
      "         Iterations: 14\n",
      "         Function evaluations: 15\n",
      "         Gradient evaluations: 15\n",
      "         Hessian evaluations: 14\n",
      "Optimization terminated successfully.\n",
      "         Current function value: 3770.424338\n",
      "         Iterations: 27\n",
      "         Function evaluations: 42\n",
      "         Gradient evaluations: 42\n",
      "         Hessian evaluations: 27\n",
      "Optimization terminated successfully.\n",
      "         Current function value: 3866.798189\n",
      "         Iterations: 12\n",
      "         Function evaluations: 13\n",
      "         Gradient evaluations: 13\n",
      "         Hessian evaluations: 12\n",
      "Optimization terminated successfully.\n",
      "         Current function value: 4094.677211\n",
      "         Iterations: 13\n",
      "         Function evaluations: 14\n",
      "         Gradient evaluations: 14\n",
      "         Hessian evaluations: 13\n",
      "Warning: Desired error not necessarily achieved due to precision loss.\n",
      "         Current function value: 3848.657614\n",
      "         Iterations: 34\n",
      "         Function evaluations: 67\n",
      "         Gradient evaluations: 55\n",
      "         Hessian evaluations: 35\n"
     ]
    }
   ],
   "source": [
    "model1 = CTMC(mask)\n",
    "model2 = MGamMixCTMC(mask)\n",
    "model3 = GamMixCTMC(mask)\n",
    "\n",
    "n_splits = 10\n",
    "zs = np.linspace(0, len(seqs), num=(n_splits + 1), dtype=int)\n",
    "\n",
    "res1 = np.zeros(n_splits)\n",
    "res2 = np.zeros(n_splits)\n",
    "res3 = np.zeros(n_splits)\n",
    "\n",
    "for i, (z1, z2) in enumerate(zip(zs[:-1], zs[1:])):\n",
    "    train = np.concatenate((seqs[:z1], seqs[z2:]))\n",
    "    valid = seqs[z1:z2]\n",
    "    ks_train, ts_train = summarize_sequences(train, n)\n",
    "    ks_valid, ts_valid = summarize_sequences(valid, n)\n",
    "    # CTMC\n",
    "    model1.fit(ks_train, ts_train)\n",
    "    res1[i] = model1.predictive_loglike(ks_valid, ts_valid) / len(ks_valid)\n",
    "    # MGamMixCTMC\n",
    "    model2.fit(ks_train, ts_train)\n",
    "    res2[i] = model2.predictive_loglike(ks_valid, ts_valid) / len(ks_valid)\n",
    "    # GamMixCTMC\n",
    "    model3.fit(ks_train, ts_train)\n",
    "    res3[i] = model3.predictive_loglike(ks_valid, ts_valid) / len(ks_valid)"
   ]
  },
  {
   "cell_type": "code",
   "execution_count": 5,
   "metadata": {},
   "outputs": [
    {
     "name": "stdout",
     "output_type": "stream",
     "text": [
      "CTMC:          -5.764 (std: 0.442)\n",
      "MGamMixCTMC:   -6.111 (std: 0.465)\n",
      "GamMixCTMC:    -5.737 (std: 0.450)\n"
     ]
    }
   ],
   "source": [
    "print(\"CTMC:          {:.3f} (std: {:.3f})\".format(np.mean(res1), np.std(res1)))\n",
    "print(\"MGamMixCTMC:   {:.3f} (std: {:.3f})\".format(np.mean(res2), np.std(res2)))\n",
    "print(\"GamMixCTMC:    {:.3f} (std: {:.3f})\".format(np.mean(res3), np.std(res3)))"
   ]
  },
  {
   "cell_type": "markdown",
   "metadata": {},
   "source": [
    "### Finite Mixture\n",
    "\n",
    "Selecting the number of finite mixture components:\n",
    "\n",
    "- $L = 2$: -5.739 (averaged over 10 seeds)\n",
    "- $L = 5$: -5.739 (averaged over 10 seeds)\n",
    "- $L = 10$: -5.738 (averaged over 10 seeds)"
   ]
  },
  {
   "cell_type": "code",
   "execution_count": 6,
   "metadata": {},
   "outputs": [
    {
     "name": "stdout",
     "output_type": "stream",
     "text": [
      "..........\n",
      "..........\n",
      "..........\n",
      "..........\n",
      "..........\n",
      "..........\n",
      "..........\n",
      "..........\n",
      "..........\n",
      "..........\n"
     ]
    }
   ],
   "source": [
    "n_seeds = 10\n",
    "n_comps = 10\n",
    "\n",
    "model5 = FiniteMixCTMC(mask, n_comps=n_comps)\n",
    "res5 = np.zeros((n_seeds, n_splits))\n",
    "\n",
    "for seed in range(n_seeds):\n",
    "    for i, (z1, z2) in enumerate(zip(zs[:-1], zs[1:])):\n",
    "        train = np.concatenate((seqs[:z1], seqs[z2:]))\n",
    "        valid = seqs[z1:z2]\n",
    "        ks_train, ts_train = summarize_sequences(train, n)\n",
    "        ks_valid, ts_valid = summarize_sequences(valid, n)\n",
    "        model5.fit(ks_train, ts_train, seed=seed, verbose=False)\n",
    "        res5[seed,i] = model5.predictive_loglike(ks_valid, ts_valid) / len(ks_valid)\n",
    "        print(\".\", end=\"\", flush=True)\n",
    "    print()"
   ]
  },
  {
   "cell_type": "code",
   "execution_count": 7,
   "metadata": {},
   "outputs": [
    {
     "name": "stdout",
     "output_type": "stream",
     "text": [
      "FiniteMixCTMC: -5.738 (std: 0.002)\n"
     ]
    }
   ],
   "source": [
    "print(\"FiniteMixCTMC: {:.3f} (std: {:.3f})\".format(np.mean(res5), np.std(np.mean(res5, axis=1))))"
   ]
  },
  {
   "cell_type": "markdown",
   "metadata": {},
   "source": [
    "### RNN"
   ]
  },
  {
   "cell_type": "code",
   "execution_count": 9,
   "metadata": {},
   "outputs": [
    {
     "name": "stdout",
     "output_type": "stream",
     "text": [
      "..........\n",
      "CPU times: user 37min 35s, sys: 0 ns, total: 37min 35s\n",
      "Wall time: 37min 4s\n"
     ]
    }
   ],
   "source": [
    "%%time\n",
    "res6 = np.zeros(n_splits)\n",
    "\n",
    "for i, (z1, z2) in enumerate(zip(zs[:-1], zs[1:])):\n",
    "    print(\".\", end=\"\", flush=True)\n",
    "    train = np.concatenate((seqs[:z1], seqs[z2:]))\n",
    "    valid = seqs[z1:z2]\n",
    "    tensor_train = seqs_to_tensor(train, n)\n",
    "    tensor_valid = seqs_to_tensor(valid, n)\n",
    "    # RNN\n",
    "    model6 = CTRNN(n, hidden_size=10)\n",
    "    # Starts overfitting after 500 iterations.\n",
    "    model6.fit(tensor_train, lr=0.1, n_iters=500, verbose=False)\n",
    "    res6[i] = model6.predictive_loglike(tensor_valid) / len(tensor_valid)\n",
    "    \n",
    "print()"
   ]
  },
  {
   "cell_type": "code",
   "execution_count": 11,
   "metadata": {},
   "outputs": [
    {
     "name": "stdout",
     "output_type": "stream",
     "text": [
      "RNN: -5.767 (std: 0.440)\n"
     ]
    }
   ],
   "source": [
    "print(\"RNN: {:.3f} (std: {:.3f})\".format(np.mean(res6), np.std(res6)))"
   ]
  }
 ],
 "metadata": {
  "environment": {
   "name": "tf2-gpu.2-3.mnightly-2021-01-20-debian-10-test",
   "type": "gcloud",
   "uri": "gcr.io/deeplearning-platform-release/tf2-gpu.2-3:mnightly-2021-01-20-debian-10-test"
  },
  "kernelspec": {
   "display_name": "Python 3 (ipykernel)",
   "language": "python",
   "name": "python3"
  },
  "language_info": {
   "codemirror_mode": {
    "name": "ipython",
    "version": 3
   },
   "file_extension": ".py",
   "mimetype": "text/x-python",
   "name": "python",
   "nbconvert_exporter": "python",
   "pygments_lexer": "ipython3",
   "version": "3.8.13"
  }
 },
 "nbformat": 4,
 "nbformat_minor": 4
}
