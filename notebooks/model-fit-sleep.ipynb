{
 "cells": [
  {
   "cell_type": "markdown",
   "metadata": {},
   "source": [
    "# Human sleep data\n",
    "\n",
    "- Available at <https://www.uni-goettingen.de/de/551628.html>\n",
    "- used in `kneib2008bayesian` and `titman2020general`"
   ]
  },
  {
   "cell_type": "code",
   "execution_count": 1,
   "metadata": {},
   "outputs": [],
   "source": [
    "import jax\n",
    "jax.config.update('jax_platform_name', 'cpu')\n",
    "\n",
    "import collections\n",
    "import matplotlib.pyplot as plt\n",
    "import numpy as np\n",
    "\n",
    "from mixmarkov import (\n",
    "    CTMC,\n",
    "    FiniteMixCTMC,\n",
    "    GamMixCTMC,\n",
    "    MGamMixCTMC,\n",
    "    summarize_sequences,\n",
    ")\n",
    "from mixmarkov.baselines import CTRNN, seqs_to_tensor\n",
    "from mixmarkov.utils import draw_chain"
   ]
  },
  {
   "cell_type": "markdown",
   "metadata": {},
   "source": [
    "## Loading the data\n",
    "\n",
    "Fields:\n",
    "\n",
    "- `id`: ID of the individual\n",
    "- `st`: state. `1` is awake, `2` is non-REM sleep and `3` is REM sleep.\n",
    "- `beg` and `end`: interval during which measurement is valid.\n",
    "- `tas`, `tsa`, `tnr`, `trn`: indicator variable of transition at the end of the interval.\n",
    "   Can be all zeros if no transition occurred.\n",
    "   Semantics: awake <-> sleep, non-REM <-> REM.\n",
    "- `cortisol`: cortisol level measured during interval."
   ]
  },
  {
   "cell_type": "code",
   "execution_count": 2,
   "metadata": {},
   "outputs": [],
   "source": [
    "data = collections.defaultdict(list)\n",
    "with open(\"../data/sleep.dat\") as f:\n",
    "    next(f)  # First line is header.\n",
    "    for line in f:\n",
    "        idx, st, beg, end, tas, tsa, tnr, trn, cortisol = line.strip().split(\" \")\n",
    "        idx = int(idx)\n",
    "        st = int(st)\n",
    "        ival = (float(beg), float(end))\n",
    "        trans = np.array(list(map(int, (tas, tsa, tnr, trn))))\n",
    "        cortisol = float(cortisol)\n",
    "        data[idx].append((st, ival, trans, cortisol))"
   ]
  },
  {
   "cell_type": "code",
   "execution_count": 3,
   "metadata": {},
   "outputs": [],
   "source": [
    "seqs = list()\n",
    "\n",
    "for idx, vals in data.items():\n",
    "    seq = list()\n",
    "    cur = None\n",
    "    for st, (beg, end), _, _ in vals:\n",
    "        if st != cur:\n",
    "            seq.append((st-1, beg))\n",
    "        cur = st\n",
    "    seqs.append(seq)\n",
    "\n",
    "# Shuffle the sequences.\n",
    "rng = np.random.default_rng(seed=0)\n",
    "idx = rng.permutation(len(seqs))\n",
    "seqs = np.array(seqs, dtype=object)[idx]"
   ]
  },
  {
   "cell_type": "code",
   "execution_count": 4,
   "metadata": {},
   "outputs": [
    {
     "name": "stdout",
     "output_type": "stream",
     "text": [
      "# states: 3\n",
      "# sequences: 70\n",
      "# edges: 6\n"
     ]
    },
    {
     "data": {
      "image/png": "[encoded data removed]",
      "text/plain": [
       "<Figure size 432x432 with 1 Axes>"
      ]
     },
     "metadata": {},
     "output_type": "display_data"
    }
   ],
   "source": [
    "states = set()\n",
    "for seq in seqs:\n",
    "    for x, y in seq:\n",
    "        states.add(x)\n",
    "        \n",
    "n = len(states)\n",
    "        \n",
    "ks, _ = summarize_sequences(seqs, n)\n",
    "mask = np.sum(ks, axis=0).astype(bool)\n",
    "np.fill_diagonal(mask, False)  # Remove self-transitions\n",
    "\n",
    "print(f\"# states: {n:,}\")\n",
    "print(f\"# sequences: {len(seqs):,}\")\n",
    "print(f\"# edges: {mask.sum():,}\")\n",
    "\n",
    "draw_chain(mask)"
   ]
  },
  {
   "cell_type": "markdown",
   "metadata": {},
   "source": [
    "## Final evaluation"
   ]
  },
  {
   "cell_type": "code",
   "execution_count": 5,
   "metadata": {},
   "outputs": [
    {
     "name": "stdout",
     "output_type": "stream",
     "text": [
      "Optimization terminated successfully.\n",
      "         Current function value: 16001.622753\n",
      "         Iterations: 15\n",
      "         Function evaluations: 16\n",
      "         Gradient evaluations: 16\n",
      "         Hessian evaluations: 15\n",
      "Optimization terminated successfully.\n",
      "         Current function value: 15893.461631\n",
      "         Iterations: 10\n",
      "         Function evaluations: 12\n",
      "         Gradient evaluations: 12\n",
      "         Hessian evaluations: 10\n",
      "Optimization terminated successfully.\n",
      "         Current function value: 15656.050023\n",
      "         Iterations: 18\n",
      "         Function evaluations: 20\n",
      "         Gradient evaluations: 20\n",
      "         Hessian evaluations: 18\n",
      "Optimization terminated successfully.\n",
      "         Current function value: 16174.368988\n",
      "         Iterations: 15\n",
      "         Function evaluations: 16\n",
      "         Gradient evaluations: 16\n",
      "         Hessian evaluations: 15\n",
      "Optimization terminated successfully.\n",
      "         Current function value: 16044.241503\n",
      "         Iterations: 9\n",
      "         Function evaluations: 11\n",
      "         Gradient evaluations: 11\n",
      "         Hessian evaluations: 9\n",
      "Optimization terminated successfully.\n",
      "         Current function value: 15810.926237\n",
      "         Iterations: 17\n",
      "         Function evaluations: 19\n",
      "         Gradient evaluations: 19\n",
      "         Hessian evaluations: 17\n",
      "Optimization terminated successfully.\n",
      "         Current function value: 16296.334108\n",
      "         Iterations: 13\n",
      "         Function evaluations: 14\n",
      "         Gradient evaluations: 14\n",
      "         Hessian evaluations: 13\n",
      "Optimization terminated successfully.\n",
      "         Current function value: 16162.838062\n",
      "         Iterations: 9\n",
      "         Function evaluations: 11\n",
      "         Gradient evaluations: 11\n",
      "         Hessian evaluations: 9\n",
      "Optimization terminated successfully.\n",
      "         Current function value: 15926.598116\n",
      "         Iterations: 19\n",
      "         Function evaluations: 21\n",
      "         Gradient evaluations: 21\n",
      "         Hessian evaluations: 19\n",
      "Optimization terminated successfully.\n",
      "         Current function value: 15670.240664\n",
      "         Iterations: 14\n",
      "         Function evaluations: 15\n",
      "         Gradient evaluations: 15\n",
      "         Hessian evaluations: 14\n",
      "Optimization terminated successfully.\n",
      "         Current function value: 15608.245000\n",
      "         Iterations: 10\n",
      "         Function evaluations: 12\n",
      "         Gradient evaluations: 12\n",
      "         Hessian evaluations: 10\n",
      "Optimization terminated successfully.\n",
      "         Current function value: 15362.601326\n",
      "         Iterations: 15\n",
      "         Function evaluations: 19\n",
      "         Gradient evaluations: 19\n",
      "         Hessian evaluations: 15\n",
      "Optimization terminated successfully.\n",
      "         Current function value: 16277.937008\n",
      "         Iterations: 13\n",
      "         Function evaluations: 14\n",
      "         Gradient evaluations: 14\n",
      "         Hessian evaluations: 13\n",
      "Optimization terminated successfully.\n",
      "         Current function value: 16186.026248\n",
      "         Iterations: 9\n",
      "         Function evaluations: 11\n",
      "         Gradient evaluations: 11\n",
      "         Hessian evaluations: 9\n",
      "Optimization terminated successfully.\n",
      "         Current function value: 15937.501932\n",
      "         Iterations: 17\n",
      "         Function evaluations: 18\n",
      "         Gradient evaluations: 18\n",
      "         Hessian evaluations: 17\n",
      "Optimization terminated successfully.\n",
      "         Current function value: 16144.518145\n",
      "         Iterations: 14\n",
      "         Function evaluations: 15\n",
      "         Gradient evaluations: 15\n",
      "         Hessian evaluations: 14\n",
      "Optimization terminated successfully.\n",
      "         Current function value: 16032.185422\n",
      "         Iterations: 10\n",
      "         Function evaluations: 12\n",
      "         Gradient evaluations: 12\n",
      "         Hessian evaluations: 10\n",
      "Optimization terminated successfully.\n",
      "         Current function value: 15800.048866\n",
      "         Iterations: 17\n",
      "         Function evaluations: 18\n",
      "         Gradient evaluations: 18\n",
      "         Hessian evaluations: 17\n",
      "Optimization terminated successfully.\n",
      "         Current function value: 16174.265351\n",
      "         Iterations: 16\n",
      "         Function evaluations: 17\n",
      "         Gradient evaluations: 17\n",
      "         Hessian evaluations: 16\n",
      "Optimization terminated successfully.\n",
      "         Current function value: 16082.425453\n",
      "         Iterations: 9\n",
      "         Function evaluations: 11\n",
      "         Gradient evaluations: 11\n",
      "         Hessian evaluations: 9\n",
      "Optimization terminated successfully.\n",
      "         Current function value: 15833.150805\n",
      "         Iterations: 18\n",
      "         Function evaluations: 65\n",
      "         Gradient evaluations: 64\n",
      "         Hessian evaluations: 18\n",
      "Optimization terminated successfully.\n",
      "         Current function value: 15957.989784\n",
      "         Iterations: 16\n",
      "         Function evaluations: 17\n",
      "         Gradient evaluations: 17\n",
      "         Hessian evaluations: 16\n",
      "Optimization terminated successfully.\n",
      "         Current function value: 15886.640631\n",
      "         Iterations: 9\n",
      "         Function evaluations: 11\n",
      "         Gradient evaluations: 11\n",
      "         Hessian evaluations: 9\n",
      "Optimization terminated successfully.\n",
      "         Current function value: 15637.931388\n",
      "         Iterations: 15\n",
      "         Function evaluations: 17\n",
      "         Gradient evaluations: 17\n",
      "         Hessian evaluations: 15\n",
      "Optimization terminated successfully.\n",
      "         Current function value: 15765.247504\n",
      "         Iterations: 17\n",
      "         Function evaluations: 18\n",
      "         Gradient evaluations: 18\n",
      "         Hessian evaluations: 17\n",
      "Optimization terminated successfully.\n",
      "         Current function value: 15677.149694\n",
      "         Iterations: 9\n",
      "         Function evaluations: 11\n",
      "         Gradient evaluations: 11\n",
      "         Hessian evaluations: 9\n",
      "Optimization terminated successfully.\n",
      "         Current function value: 15438.643234\n",
      "         Iterations: 16\n",
      "         Function evaluations: 18\n",
      "         Gradient evaluations: 18\n",
      "         Hessian evaluations: 16\n",
      "Optimization terminated successfully.\n",
      "         Current function value: 16119.839966\n",
      "         Iterations: 14\n",
      "         Function evaluations: 15\n",
      "         Gradient evaluations: 15\n",
      "         Hessian evaluations: 14\n",
      "Optimization terminated successfully.\n",
      "         Current function value: 16024.134203\n",
      "         Iterations: 9\n",
      "         Function evaluations: 11\n",
      "         Gradient evaluations: 11\n",
      "         Hessian evaluations: 9\n",
      "Optimization terminated successfully.\n",
      "         Current function value: 15780.031197\n",
      "         Iterations: 20\n",
      "         Function evaluations: 22\n",
      "         Gradient evaluations: 22\n",
      "         Hessian evaluations: 20\n"
     ]
    }
   ],
   "source": [
    "model1 = CTMC(mask)\n",
    "model2 = MGamMixCTMC(mask)\n",
    "model3 = GamMixCTMC(mask)\n",
    "\n",
    "n_splits = 10\n",
    "zs = np.linspace(0, len(seqs), num=(n_splits + 1), dtype=int)\n",
    "\n",
    "res1 = np.zeros(n_splits)\n",
    "res2 = np.zeros(n_splits)\n",
    "res3 = np.zeros(n_splits)\n",
    "\n",
    "for i, (z1, z2) in enumerate(zip(zs[:-1], zs[1:])):\n",
    "    train = np.concatenate((seqs[:z1], seqs[z2:]))\n",
    "    valid = seqs[z1:z2]\n",
    "    ks_train, ts_train = summarize_sequences(train, n)\n",
    "    ks_valid, ts_valid = summarize_sequences(valid, n)\n",
    "    # CTMC\n",
    "    model1.fit(ks_train, ts_train)\n",
    "    res1[i] = model1.predictive_loglike(ks_valid, ts_valid) / len(ks_valid)\n",
    "    # MGamMixCTMC\n",
    "    model2.fit(ks_train, ts_train)\n",
    "    res2[i] = model2.predictive_loglike(ks_valid, ts_valid) / len(ks_valid)\n",
    "    # GamMixCTMC\n",
    "    model3.fit(ks_train, ts_train)\n",
    "    res3[i] = model3.predictive_loglike(ks_valid, ts_valid) / len(ks_valid)"
   ]
  },
  {
   "cell_type": "code",
   "execution_count": 6,
   "metadata": {},
   "outputs": [
    {
     "name": "stdout",
     "output_type": "stream",
     "text": [
      "CTMC:          -255.307 (std: 28.389)\n",
      "MGamMixCTMC:   -253.368 (std: 26.238)\n",
      "GamMixCTMC:    -249.733 (std: 26.329)\n"
     ]
    }
   ],
   "source": [
    "print(\"CTMC:          {:.3f} (std: {:.3f})\".format(np.mean(res1), np.std(res1)))\n",
    "print(\"MGamMixCTMC:   {:.3f} (std: {:.3f})\".format(np.mean(res2), np.std(res2)))\n",
    "print(\"GamMixCTMC:    {:.3f} (std: {:.3f})\".format(np.mean(res3), np.std(res3)))"
   ]
  },
  {
   "cell_type": "markdown",
   "metadata": {},
   "source": [
    "### Finite Mixture\n",
    "\n",
    "Selecting the number of finite mixture components:\n",
    "\n",
    "- $L = 2$ (10 iters): -252.790\n",
    "- $L = 5$ (7 iters): -251.135\n",
    "- $L = 10$ (7 iters): -250.613 (averaged over 10 seeds)"
   ]
  },
  {
   "cell_type": "code",
   "execution_count": 7,
   "metadata": {},
   "outputs": [
    {
     "name": "stdout",
     "output_type": "stream",
     "text": [
      "..........\n",
      "..........\n",
      "..........\n",
      "..........\n",
      "..........\n",
      "..........\n",
      "..........\n",
      "..........\n",
      "..........\n",
      "..........\n"
     ]
    }
   ],
   "source": [
    "n_seeds = 10\n",
    "\n",
    "model3 = FiniteMixCTMC(mask, n_comps=10)\n",
    "res3 = np.zeros((n_seeds, n_splits))\n",
    "\n",
    "for seed in range(n_seeds):\n",
    "    for i, (z1, z2) in enumerate(zip(zs[:-1], zs[1:])):\n",
    "        train = np.concatenate((seqs[:z1], seqs[z2:]))\n",
    "        valid = seqs[z1:z2]\n",
    "        ks_train, ts_train = summarize_sequences(train, n)\n",
    "        ks_valid, ts_valid = summarize_sequences(valid, n)\n",
    "        model3.fit(ks_train, ts_train, seed=seed, verbose=False)\n",
    "        res3[seed,i] = model3.predictive_loglike(ks_valid, ts_valid) / len(ks_valid)\n",
    "        print(\".\", end=\"\", flush=True)\n",
    "    print()"
   ]
  },
  {
   "cell_type": "code",
   "execution_count": 8,
   "metadata": {},
   "outputs": [
    {
     "name": "stdout",
     "output_type": "stream",
     "text": [
      "FiniteMixCTMC: -250.613 (std: 0.205)\n"
     ]
    }
   ],
   "source": [
    "print(\"FiniteMixCTMC: {:.3f} (std: {:.3f})\".format(np.mean(res3), np.std(np.mean(res3, axis=1))))"
   ]
  },
  {
   "cell_type": "markdown",
   "metadata": {},
   "source": [
    "### RNN"
   ]
  },
  {
   "cell_type": "code",
   "execution_count": 9,
   "metadata": {},
   "outputs": [
    {
     "name": "stdout",
     "output_type": "stream",
     "text": [
      "..........\n",
      "CPU times: user 1h 34min 26s, sys: 28 s, total: 1h 34min 54s\n",
      "Wall time: 1h 33min 50s\n"
     ]
    }
   ],
   "source": [
    "%%time\n",
    "res3 = np.zeros(n_splits)\n",
    "\n",
    "for i, (z1, z2) in enumerate(zip(zs[:-1], zs[1:])):\n",
    "    print(\".\", end=\"\", flush=True)\n",
    "    train = np.concatenate((seqs[:z1], seqs[z2:]))\n",
    "    valid = seqs[z1:z2]\n",
    "    tensor_train = seqs_to_tensor(train, n)\n",
    "    tensor_valid = seqs_to_tensor(valid, n)\n",
    "    # RNN\n",
    "    model3 = CTRNN(n, hidden_size=10)\n",
    "    # Starts overfitting after 1K iterations.\n",
    "    model3.fit(tensor_train, lr=0.1, n_iters=1000, verbose=False)\n",
    "    res3[i] = model3.predictive_loglike(tensor_valid) / len(tensor_valid)\n",
    "\n",
    "print()"
   ]
  },
  {
   "cell_type": "code",
   "execution_count": 10,
   "metadata": {},
   "outputs": [
    {
     "name": "stdout",
     "output_type": "stream",
     "text": [
      "RNN: -251.010 (std: 26.896)\n"
     ]
    }
   ],
   "source": [
    "print(\"RNN: {:.3f} (std: {:.3f})\".format(np.mean(res3), np.std(res3)))"
   ]
  }
 ],
 "metadata": {
  "environment": {
   "name": "tf2-gpu.2-3.mnightly-2021-01-20-debian-10-test",
   "type": "gcloud",
   "uri": "gcr.io/deeplearning-platform-release/tf2-gpu.2-3:mnightly-2021-01-20-debian-10-test"
  },
  "kernelspec": {
   "display_name": "Python 3 (ipykernel)",
   "language": "python",
   "name": "python3"
  },
  "language_info": {
   "codemirror_mode": {
    "name": "ipython",
    "version": 3
   },
   "file_extension": ".py",
   "mimetype": "text/x-python",
   "name": "python",
   "nbconvert_exporter": "python",
   "pygments_lexer": "ipython3",
   "version": "3.8.13"
  }
 },
 "nbformat": 4,
 "nbformat_minor": 4
}
