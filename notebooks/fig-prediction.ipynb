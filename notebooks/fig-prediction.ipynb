{
 "cells": [
  {
   "cell_type": "markdown",
   "metadata": {},
   "source": [
    "# Prediction tasks\n",
    "\n",
    "Performance on state prediction tasks for the `ebmt` and `customers` datasets."
   ]
  },
  {
   "cell_type": "code",
   "execution_count": 1,
   "metadata": {},
   "outputs": [],
   "source": [
    "%matplotlib inline\n",
    "\n",
    "import matplotlib.pyplot as plt\n",
    "import numpy as np\n",
    "\n",
    "from mixmarkov.plotting import setup_plotting"
   ]
  },
  {
   "cell_type": "code",
   "execution_count": 2,
   "metadata": {},
   "outputs": [
    {
     "name": "stdout",
     "output_type": "stream",
     "text": [
      "Plotting settings loaded!\n"
     ]
    }
   ],
   "source": [
    "setup_plotting()"
   ]
  },
  {
   "cell_type": "code",
   "execution_count": 3,
   "metadata": {},
   "outputs": [
    {
     "data": {
      "text/html": [
       "<style>\n",
       "table {align:left; display:block}\n",
       "</style>\n"
      ],
      "text/plain": [
       "<IPython.core.display.HTML object>"
      ]
     },
     "metadata": {},
     "output_type": "display_data"
    }
   ],
   "source": [
    "%%html\n",
    "<style>\n",
    "table {align:left; display:block}\n",
    "</style>"
   ]
  },
  {
   "cell_type": "markdown",
   "metadata": {},
   "source": [
    "`ebmt` dataset\n",
    "\n",
    "| Model     | no offset | w/ offset |\n",
    "|-----------|-----------|-----------|\n",
    "| CTMC      |     1.043 |     1.043 |\n",
    "| Inf. mix. |     0.907 |     0.617 |\n",
    "| Fin. mix. |     1.605 |     0.786 |\n",
    "\n",
    "`customers` dataset\n",
    "\n",
    "| Model     | no offset | w/ offset |\n",
    "|-----------|-----------|-----------|\n",
    "| DTMC      |     0.480 |     0.480 |\n",
    "| Inf. mix. |     0.471 |     0.448 |\n",
    "| Fin. mix. |     0.489 |     0.462 |\n",
    "| RNN       |     0.482 |     0.468 |"
   ]
  },
  {
   "cell_type": "markdown",
   "metadata": {},
   "source": [
    "## Predictive log-loss / effect of past"
   ]
  },
  {
   "cell_type": "code",
   "execution_count": 4,
   "metadata": {},
   "outputs": [],
   "source": [
    "ebmt = (\n",
    "    (\"CTMC\", 1.043, 1.043),\n",
    "    (\"Fin. mix.\", 1.605, 0.786),\n",
    "    (\"Inf. mix.\", 0.907, 0.617),\n",
    ")\n",
    "\n",
    "cust = (\n",
    "    (\"DTMC\", 0.480, 0.480),\n",
    "    (\"RNN\", 0.482, 0.468),\n",
    "    (\"Fin. mix.\", 0.489, 0.462),\n",
    "    (\"Inf. mix.\", 0.471, 0.448),\n",
    ")"
   ]
  },
  {
   "cell_type": "code",
   "execution_count": 5,
   "metadata": {},
   "outputs": [
    {
     "data": {
      "image/png": "[encoded data removed]",
      "text/plain": [
       "<Figure size 555x210 with 2 Axes>"
      ]
     },
     "metadata": {
      "needs_background": "light"
     },
     "output_type": "display_data"
    }
   ],
   "source": [
    "fig, axs = plt.subplots(ncols=2, figsize=(3.7, 1.4))\n",
    "\n",
    "for ax, vals, title in zip(axs, (ebmt, cust), (\"ebmt\", \"customers\")):\n",
    "    labels, ys1, ys2 = map(np.array, zip(*vals))\n",
    "    idx = np.arange(len(labels))\n",
    "    ax.bar(idx-0.15, ys1, width=0.3, color=plt.cm.Paired(2), label=\"no past\")\n",
    "    ax.bar(idx+0.15, ys2, width=0.3, color=plt.cm.Paired(3), label=\"with past\")\n",
    "    top = 1.15 * np.max(ys1)\n",
    "    ax.set_title(title, pad=4.0)\n",
    "    #ax.set_yticks(data[i][\"ticks\"])\n",
    "    ymin = min(ys1.min(), ys2.min())\n",
    "    ymax = max(ys1.max(), ys2.max())\n",
    "    bottom = ymin - (ymax - ymin) * 0.3\n",
    "    top = ymax + (ymax - ymin) * 0.1\n",
    "    ax.set_ylim(bottom=bottom, top=top)\n",
    "    ax.set_xlim(idx[0] - 0.6, idx[-1] + 0.6)\n",
    "    ax.set_xticks(idx)\n",
    "    ax.set_xticklabels(labels, ha=\"right\", rotation=30)\n",
    "    ax.grid(axis=\"y\", lw=0.5)\n",
    "    ax.set_axisbelow(True)\n",
    "    ax.tick_params(axis='y', labelsize=6, pad=1.5)\n",
    "    ax.tick_params(axis='x', labelsize=7, pad=1.0)\n",
    "\n",
    "axs[0].legend(fontsize=6, frameon=True, framealpha=1.0, edgecolor=\"w\", handlelength=1.0)\n",
    "axs[0].set_ylabel(r\"Log loss\")\n",
    "\n",
    "fig.subplots_adjust(wspace=0.25)\n",
    "fig.savefig(\"prediction2.pdf\", bbox_inches=\"tight\")"
   ]
  }
 ],
 "metadata": {
  "kernelspec": {
   "display_name": "Python 3 (ipykernel)",
   "language": "python",
   "name": "python3"
  },
  "language_info": {
   "codemirror_mode": {
    "name": "ipython",
    "version": 3
   },
   "file_extension": ".py",
   "mimetype": "text/x-python",
   "name": "python",
   "nbconvert_exporter": "python",
   "pygments_lexer": "ipython3",
   "version": "3.8.13"
  }
 },
 "nbformat": 4,
 "nbformat_minor": 4
}
