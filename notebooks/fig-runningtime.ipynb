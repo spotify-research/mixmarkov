{
 "cells": [
  {
   "cell_type": "markdown",
   "metadata": {},
   "source": [
    "# Average running-time figure"
   ]
  },
  {
   "cell_type": "code",
   "execution_count": 1,
   "metadata": {},
   "outputs": [],
   "source": [
    "%matplotlib inline\n",
    "\n",
    "import matplotlib.pyplot as plt\n",
    "import numpy as np\n",
    "import pickle\n",
    "\n",
    "from mixmarkov.plotting import setup_plotting"
   ]
  },
  {
   "cell_type": "code",
   "execution_count": 2,
   "metadata": {},
   "outputs": [
    {
     "name": "stdout",
     "output_type": "stream",
     "text": [
      "Plotting settings loaded!\n"
     ]
    }
   ],
   "source": [
    "setup_plotting()"
   ]
  },
  {
   "cell_type": "code",
   "execution_count": 3,
   "metadata": {},
   "outputs": [],
   "source": [
    "with open(\"../../data/runningtime.pickle\", \"rb\") as f:\n",
    "    res = pickle.load(f)"
   ]
  },
  {
   "cell_type": "code",
   "execution_count": 4,
   "metadata": {},
   "outputs": [
    {
     "name": "stdout",
     "output_type": "stream",
     "text": [
      "[[  1.          23.94503539  41.70269714]\n",
      " [  1.           3.81077563 102.70132823]\n",
      " [  1.           5.97207606 175.86442507]\n",
      " [  1.           4.21066424 306.56677825]]\n"
     ]
    }
   ],
   "source": [
    "mat = np.array(list(res.values()))\n",
    "norm = mat / mat[:,:1]\n",
    "\n",
    "qs = np.quantile(norm, (0.25, 0.5, 0.75), axis=0)\n",
    "\n",
    "print(norm)"
   ]
  },
  {
   "cell_type": "code",
   "execution_count": 5,
   "metadata": {},
   "outputs": [
    {
     "data": {
      "text/plain": [
       "array([[  1.        ,   4.11069209,  87.45167046],\n",
       "       [  1.        ,   5.09137015, 139.28287665],\n",
       "       [  1.        ,  10.46531589, 208.54001337]])"
      ]
     },
     "execution_count": 5,
     "metadata": {},
     "output_type": "execute_result"
    }
   ],
   "source": [
    "qs"
   ]
  },
  {
   "cell_type": "code",
   "execution_count": 6,
   "metadata": {},
   "outputs": [
    {
     "data": {
      "image/png": "[encoded data removed]",
      "text/plain": [
       "<Figure size 450x105 with 1 Axes>"
      ]
     },
     "metadata": {
      "needs_background": "light"
     },
     "output_type": "display_data"
    }
   ],
   "source": [
    "fig, ax = plt.subplots(figsize=(3.0, 0.7))\n",
    "\n",
    "idx = np.arange(2)\n",
    "xs = np.array([qs[1,2], qs[1,1]])\n",
    "xerr = np.array([\n",
    "    [qs[1,2] - qs[0,2], qs[1,1] - qs[0,1]],  # lower errors.\n",
    "    [qs[2,2] - qs[1,2], qs[2,1] - qs[1,1]],  # upper errors.\n",
    "])\n",
    "\n",
    "bar1, bar2 = ax.barh(idx, xs, height=0.5, xerr=xerr, capsize=3, error_kw={\"elinewidth\": 0.5, \"capthick\": 0.5})\n",
    "bar1.set_color(plt.cm.Paired(0))\n",
    "bar2.set_color(plt.cm.Paired(1))\n",
    "ax.grid(axis=\"x\", lw=0.5)\n",
    "ax.set_axisbelow(True)\n",
    "ax.set_xlabel(\"Normalized time\")\n",
    "ax.set_yticks(idx)\n",
    "ax.set_yticklabels([\"Fin. mix.\", \"Inf. mix.\"], ha=\"right\", rotation=30)\n",
    "#ax.tick_params(axis='y', labelsize=6, pad=1.5)\n",
    "#ax.tick_params(axis='x', labelsize=6, pad=1.0)\n",
    "ax.set_ylim(bottom=-0.5, top=1.5)\n",
    "#ax.set_title(\"Running time\", pad=4.0)\n",
    "\n",
    "fig.savefig(\"runningtime.pdf\", bbox_inches=\"tight\")"
   ]
  }
 ],
 "metadata": {
  "kernelspec": {
   "display_name": "Python 3",
   "language": "python",
   "name": "python3"
  },
  "language_info": {
   "codemirror_mode": {
    "name": "ipython",
    "version": 3
   },
   "file_extension": ".py",
   "mimetype": "text/x-python",
   "name": "python",
   "nbconvert_exporter": "python",
   "pygments_lexer": "ipython3",
   "version": "3.8.5"
  }
 },
 "nbformat": 4,
 "nbformat_minor": 4
}
