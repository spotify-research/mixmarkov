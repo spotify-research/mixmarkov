{
 "cells": [
  {
   "cell_type": "markdown",
   "metadata": {},
   "source": [
    "# Running time estimation\n",
    "\n",
    "This notebook estimates the running time of fitting various models."
   ]
  },
  {
   "cell_type": "code",
   "execution_count": 1,
   "metadata": {},
   "outputs": [],
   "source": [
    "import collections\n",
    "import csv\n",
    "import numpy as np\n",
    "import pickle\n",
    "\n",
    "from mixmarkov import (\n",
    "    CTMC,\n",
    "    GamMixCTMC,\n",
    "    FiniteMixCTMC,\n",
    "    summarize_sequences,\n",
    ")"
   ]
  },
  {
   "cell_type": "code",
   "execution_count": 2,
   "metadata": {},
   "outputs": [],
   "source": [
    "res = {\n",
    "    \"venticu\": np.zeros(3),\n",
    "    \"sleep\": np.zeros(3),\n",
    "    \"ebmt\": np.zeros(3),\n",
    "    \"customers\": np.zeros(3),\n",
    "}"
   ]
  },
  {
   "cell_type": "markdown",
   "metadata": {},
   "source": [
    "### venticu"
   ]
  },
  {
   "cell_type": "code",
   "execution_count": 3,
   "metadata": {},
   "outputs": [],
   "source": [
    "seqs = list()\n",
    "with open(\"../../data/ventICU.dat\") as f:\n",
    "    next(f)  # First line is header.\n",
    "    cur = None\n",
    "    for line in f:\n",
    "        idx, age, sex, _, src, dst, estart, estop = line.strip().split(\" \")\n",
    "        src = int(src) - 1\n",
    "        dst = int(dst) - 1\n",
    "        if idx != cur:\n",
    "            if cur is not None:\n",
    "                seqs.append(seq)\n",
    "            seq = list()\n",
    "            cur = idx\n",
    "            seq.append((src, float(estart)))\n",
    "        if dst == 999 - 1:\n",
    "            dst = src\n",
    "        seq.append((dst, float(estop)))\n",
    "    seqs.append(seq)\n",
    "seqs = np.array(seqs, dtype=object)\n",
    "\n",
    "n = 4\n",
    "ks, ts = summarize_sequences(seqs, n)\n",
    "mask = np.sum(ks, axis=0).astype(bool)\n",
    "np.fill_diagonal(mask, False)  # Remove self-transitions"
   ]
  },
  {
   "cell_type": "code",
   "execution_count": 4,
   "metadata": {},
   "outputs": [
    {
     "name": "stderr",
     "output_type": "stream",
     "text": [
      "WARNING:absl:No GPU/TPU found, falling back to CPU. (Set TF_CPP_MIN_LOG_LEVEL=0 and rerun for more info.)\n"
     ]
    },
    {
     "name": "stdout",
     "output_type": "stream",
     "text": [
      "Optimization terminated successfully.\n",
      "         Current function value: 4299.424575\n",
      "         Iterations: 14\n",
      "         Function evaluations: 15\n",
      "         Gradient evaluations: 15\n",
      "         Hessian evaluations: 14\n"
     ]
    }
   ],
   "source": [
    "model = CTMC(mask)\n",
    "model.fit(ks, ts)"
   ]
  },
  {
   "cell_type": "code",
   "execution_count": 5,
   "metadata": {},
   "outputs": [
    {
     "name": "stdout",
     "output_type": "stream",
     "text": [
      "20.5 ms ± 1.77 ms per loop (mean ± std. dev. of 7 runs, 10 loops each)\n"
     ]
    }
   ],
   "source": [
    "r = %timeit -o model.fit(ks, ts, verbose=False)\n",
    "res[\"venticu\"][0] = r.average"
   ]
  },
  {
   "cell_type": "code",
   "execution_count": 6,
   "metadata": {},
   "outputs": [
    {
     "name": "stdout",
     "output_type": "stream",
     "text": [
      "Optimization terminated successfully.\n",
      "         Current function value: 4277.357304\n",
      "         Iterations: 28\n",
      "         Function evaluations: 39\n",
      "         Gradient evaluations: 39\n",
      "         Hessian evaluations: 28\n"
     ]
    }
   ],
   "source": [
    "model = GamMixCTMC(mask)\n",
    "model.fit(ks, ts)"
   ]
  },
  {
   "cell_type": "code",
   "execution_count": 7,
   "metadata": {},
   "outputs": [
    {
     "name": "stdout",
     "output_type": "stream",
     "text": [
      "490 ms ± 8.6 ms per loop (mean ± std. dev. of 7 runs, 1 loop each)\n"
     ]
    }
   ],
   "source": [
    "r = %timeit -o model.fit(ks, ts, verbose=False)\n",
    "res[\"venticu\"][1] = r.average"
   ]
  },
  {
   "cell_type": "code",
   "execution_count": 8,
   "metadata": {},
   "outputs": [],
   "source": [
    "model = FiniteMixCTMC(mask, n_comps=3)\n",
    "model.fit(ks, ts, seed=0, verbose=False)"
   ]
  },
  {
   "cell_type": "code",
   "execution_count": 9,
   "metadata": {},
   "outputs": [
    {
     "name": "stdout",
     "output_type": "stream",
     "text": [
      "854 ms ± 9.74 ms per loop (mean ± std. dev. of 7 runs, 1 loop each)\n"
     ]
    }
   ],
   "source": [
    "r = %timeit -o model.fit(ks, ts, verbose=False)\n",
    "res[\"venticu\"][2] = r.average"
   ]
  },
  {
   "cell_type": "markdown",
   "metadata": {},
   "source": [
    "### sleep"
   ]
  },
  {
   "cell_type": "code",
   "execution_count": 10,
   "metadata": {},
   "outputs": [],
   "source": [
    "data = collections.defaultdict(list)\n",
    "with open(\"../../data/sleep.dat\") as f:\n",
    "    next(f)  # First line is header.\n",
    "    for line in f:\n",
    "        idx, st, beg, end, tas, tsa, tnr, trn, cortisol = line.strip().split(\" \")\n",
    "        idx = int(idx)\n",
    "        st = int(st)\n",
    "        ival = (float(beg), float(end))\n",
    "        trans = np.array(list(map(int, (tas, tsa, tnr, trn))))\n",
    "        cortisol = float(cortisol)\n",
    "        data[idx].append((st, ival, trans, cortisol))\n",
    "seqs = list()\n",
    "for idx, vals in data.items():\n",
    "    seq = list()\n",
    "    cur = None\n",
    "    for st, (beg, end), _, _ in vals:\n",
    "        if st != cur:\n",
    "            seq.append((st-1, beg))\n",
    "        cur = st\n",
    "    seqs.append(seq)\n",
    "seqs = np.array(seqs, dtype=object)\n",
    "\n",
    "n = 3\n",
    "ks, ts = summarize_sequences(seqs, n)\n",
    "mask = np.sum(ks, axis=0).astype(bool)\n",
    "np.fill_diagonal(mask, False)  # Remove self-transitions"
   ]
  },
  {
   "cell_type": "code",
   "execution_count": 11,
   "metadata": {},
   "outputs": [
    {
     "name": "stdout",
     "output_type": "stream",
     "text": [
      "Optimization terminated successfully.\n",
      "         Current function value: 17843.925907\n",
      "         Iterations: 15\n",
      "         Function evaluations: 16\n",
      "         Gradient evaluations: 16\n",
      "         Hessian evaluations: 15\n"
     ]
    }
   ],
   "source": [
    "model = CTMC(mask)\n",
    "model.fit(ks, ts)"
   ]
  },
  {
   "cell_type": "code",
   "execution_count": 12,
   "metadata": {},
   "outputs": [
    {
     "name": "stdout",
     "output_type": "stream",
     "text": [
      "17.3 ms ± 229 µs per loop (mean ± std. dev. of 7 runs, 100 loops each)\n"
     ]
    }
   ],
   "source": [
    "r = %timeit -o model.fit(ks, ts, verbose=False)\n",
    "res[\"sleep\"][0] = r.average"
   ]
  },
  {
   "cell_type": "code",
   "execution_count": 13,
   "metadata": {},
   "outputs": [
    {
     "name": "stdout",
     "output_type": "stream",
     "text": [
      "Optimization terminated successfully.\n",
      "         Current function value: 17465.631606\n",
      "         Iterations: 19\n",
      "         Function evaluations: 21\n",
      "         Gradient evaluations: 21\n",
      "         Hessian evaluations: 19\n"
     ]
    }
   ],
   "source": [
    "model = GamMixCTMC(mask)\n",
    "model.fit(ks, ts)"
   ]
  },
  {
   "cell_type": "code",
   "execution_count": 14,
   "metadata": {},
   "outputs": [
    {
     "name": "stdout",
     "output_type": "stream",
     "text": [
      "65.8 ms ± 1.6 ms per loop (mean ± std. dev. of 7 runs, 10 loops each)\n"
     ]
    }
   ],
   "source": [
    "r = %timeit -o model.fit(ks, ts, verbose=False)\n",
    "res[\"sleep\"][1] = r.average"
   ]
  },
  {
   "cell_type": "code",
   "execution_count": 15,
   "metadata": {},
   "outputs": [],
   "source": [
    "model = FiniteMixCTMC(mask, n_comps=10)\n",
    "model.fit(ks, ts, seed=0, verbose=False)"
   ]
  },
  {
   "cell_type": "code",
   "execution_count": 16,
   "metadata": {},
   "outputs": [
    {
     "name": "stdout",
     "output_type": "stream",
     "text": [
      "1.77 s ± 11.2 ms per loop (mean ± std. dev. of 7 runs, 1 loop each)\n"
     ]
    }
   ],
   "source": [
    "r = %timeit -o model.fit(ks, ts, seed=0, verbose=False)\n",
    "res[\"sleep\"][2] = r.average"
   ]
  },
  {
   "cell_type": "markdown",
   "metadata": {},
   "source": [
    "### ebmt"
   ]
  },
  {
   "cell_type": "code",
   "execution_count": 17,
   "metadata": {},
   "outputs": [],
   "source": [
    "rng = np.random.default_rng(seed=0)\n",
    "\n",
    "vecs_year = rng.normal(size=(3, 10))\n",
    "year_map = {\n",
    "    \"1985-1989\": vecs_year[0],\n",
    "    \"1990-1994\": vecs_year[1],\n",
    "    \"1995-1998\": vecs_year[2],\n",
    "}\n",
    "\n",
    "vecs_agecl = rng.normal(size=(3, 10))\n",
    "agecl_map = {\n",
    "    \"<=20\": vecs_agecl[0],\n",
    "    \"20-40\": vecs_agecl[1],\n",
    "    \">40\": vecs_agecl[2],\n",
    "}\n",
    "\n",
    "rng = np.random.default_rng(seed=0)\n",
    "\n",
    "seqs = list()\n",
    "feats = list()\n",
    "\n",
    "with open(\"../../data/ebmt.dat\") as f:\n",
    "    #next(f)  # First line is header.\n",
    "    cur = None\n",
    "    for row in csv.DictReader(f, delimiter=\" \"):\n",
    "        #idx, src, dst, _, start, stop, _, status, match, proph, year, agecls = line.strip().split(\" \")\n",
    "        src = int(row[\"from\"]) - 1\n",
    "        dst = int(row[\"to\"]) - 1\n",
    "        if row[\"id\"] != cur:\n",
    "            if cur is not None:\n",
    "                if seq[-1][1] < max_stop:\n",
    "                    seq.append((seq[-1][0], max_stop))\n",
    "                seqs.append(seq)\n",
    "            seq = list()\n",
    "            cur = row[\"id\"]\n",
    "            seq.append((src, float(row[\"Tstart\"])))\n",
    "            feats.append(np.concatenate((\n",
    "                year_map[row[\"year\"]],\n",
    "                agecl_map[row[\"agecl\"]],\n",
    "                rng.normal(size=(20,))\n",
    "            )))\n",
    "        if row[\"status\"] == \"1\":\n",
    "            seq.append((dst, float(row[\"Tstop\"])))\n",
    "        max_stop = float(row[\"Tstop\"])\n",
    "    seqs.append(seq)\n",
    "    \n",
    "seqs = np.array(seqs, dtype=object)\n",
    "xs = np.array(feats)\n",
    "\n",
    "n = 6   \n",
    "ks, ts = summarize_sequences(seqs, n)\n",
    "mask = np.sum(ks, axis=0).astype(bool)\n",
    "np.fill_diagonal(mask, False)  # Remove self-transitions"
   ]
  },
  {
   "cell_type": "code",
   "execution_count": 18,
   "metadata": {},
   "outputs": [
    {
     "name": "stdout",
     "output_type": "stream",
     "text": [
      "Optimization terminated successfully.\n",
      "         Current function value: 28580.651430\n",
      "         Iterations: 22\n",
      "         Function evaluations: 23\n",
      "         Gradient evaluations: 23\n",
      "         Hessian evaluations: 22\n"
     ]
    }
   ],
   "source": [
    "model = CTMC(mask)\n",
    "model.fit(ks, ts, xs=xs, l2=3.0)"
   ]
  },
  {
   "cell_type": "code",
   "execution_count": 19,
   "metadata": {},
   "outputs": [
    {
     "name": "stdout",
     "output_type": "stream",
     "text": [
      "8.6 s ± 156 ms per loop (mean ± std. dev. of 7 runs, 1 loop each)\n"
     ]
    }
   ],
   "source": [
    "r = %timeit -o model.fit(ks, ts, xs=xs, l2=3.0, verbose=False)\n",
    "res[\"ebmt\"][0] = r.average"
   ]
  },
  {
   "cell_type": "code",
   "execution_count": 20,
   "metadata": {},
   "outputs": [
    {
     "name": "stdout",
     "output_type": "stream",
     "text": [
      "Optimization terminated successfully.\n",
      "         Current function value: 22434.976316\n",
      "         Iterations: 20\n",
      "         Function evaluations: 23\n",
      "         Gradient evaluations: 23\n",
      "         Hessian evaluations: 20\n"
     ]
    }
   ],
   "source": [
    "model = GamMixCTMC(mask)\n",
    "model.fit(ks, ts, xs=xs, l2=3.0)"
   ]
  },
  {
   "cell_type": "code",
   "execution_count": 21,
   "metadata": {},
   "outputs": [
    {
     "name": "stdout",
     "output_type": "stream",
     "text": [
      "51.3 s ± 236 ms per loop (mean ± std. dev. of 7 runs, 1 loop each)\n"
     ]
    }
   ],
   "source": [
    "r = %timeit -o model.fit(ks, ts, xs=xs, l2=3.0, verbose=False)\n",
    "res[\"ebmt\"][1] = r.average"
   ]
  },
  {
   "cell_type": "code",
   "execution_count": 7,
   "metadata": {},
   "outputs": [
    {
     "name": "stdout",
     "output_type": "stream",
     "text": [
      "cost: 32421.902, imp: inf%\n",
      "cost: 30868.488, imp: 5.03%\n",
      "cost: 27874.749, imp: 10.74%\n",
      "cost: 26276.768, imp: 6.08%\n",
      "cost: 25430.502, imp: 3.33%\n",
      "cost: 24926.268, imp: 2.02%\n",
      "cost: 24588.689, imp: 1.37%\n",
      "cost: 24331.315, imp: 1.06%\n",
      "cost: 24118.985, imp: 0.88%\n",
      "cost: 23912.336, imp: 0.86%\n",
      "cost: 23741.616, imp: 0.72%\n",
      "cost: 23609.615, imp: 0.56%\n",
      "cost: 23476.748, imp: 0.57%\n",
      "cost: 23355.689, imp: 0.52%\n",
      "cost: 23249.634, imp: 0.46%\n",
      "cost: 23115.833, imp: 0.58%\n",
      "cost: 23011.176, imp: 0.45%\n",
      "cost: 22935.398, imp: 0.33%\n",
      "cost: 22885.504, imp: 0.22%\n",
      "cost: 22829.855, imp: 0.24%\n",
      "cost: 22782.599, imp: 0.21%\n",
      "cost: 22739.307, imp: 0.19%\n",
      "cost: 22706.725, imp: 0.14%\n",
      "cost: 22680.251, imp: 0.12%\n",
      "cost: 22654.010, imp: 0.12%\n",
      "cost: 22610.662, imp: 0.19%\n",
      "cost: 22548.547, imp: 0.28%\n",
      "cost: 22474.167, imp: 0.33%\n",
      "cost: 22410.182, imp: 0.29%\n",
      "cost: 22338.028, imp: 0.32%\n",
      "cost: 22282.656, imp: 0.25%\n",
      "cost: 22233.409, imp: 0.22%\n",
      "cost: 22195.006, imp: 0.17%\n",
      "cost: 22166.163, imp: 0.13%\n",
      "cost: 22129.088, imp: 0.17%\n",
      "cost: 22082.137, imp: 0.21%\n",
      "cost: 22057.436, imp: 0.11%\n",
      "cost: 22042.347, imp: 0.07%\n",
      "CPU times: user 5h 15min 29s, sys: 2h 2min 16s, total: 7h 17min 45s\n",
      "Wall time: 26min 10s\n"
     ]
    }
   ],
   "source": [
    "%%time\n",
    "n_comps = 5\n",
    "l2 = 3.0\n",
    "\n",
    "model = FiniteMixCTMC(mask, n_comps=n_comps)\n",
    "model.fit(ks, ts, xs=xs, seed=0, l2=l2, verbose=True)"
   ]
  },
  {
   "cell_type": "code",
   "execution_count": 9,
   "metadata": {},
   "outputs": [
    {
     "name": "stdout",
     "output_type": "stream",
     "text": [
      "25min 50s ± 12 s per loop (mean ± std. dev. of 7 runs, 1 loop each)\n"
     ]
    }
   ],
   "source": [
    "r = %timeit -o model.fit(ks, ts, xs=xs, seed=0, l2=l2, verbose=False)\n",
    "res[\"ebmt\"][2] = r.average"
   ]
  },
  {
   "cell_type": "code",
   "execution_count": 22,
   "metadata": {},
   "outputs": [],
   "source": [
    "res[\"ebmt\"][2] = 25.0 * 60 + 12.0"
   ]
  },
  {
   "cell_type": "markdown",
   "metadata": {},
   "source": [
    "### customers"
   ]
  },
  {
   "cell_type": "code",
   "execution_count": 23,
   "metadata": {},
   "outputs": [],
   "source": [
    "res[\"customers\"] = np.array([171.35907648, 721.5355354, 52533.0])"
   ]
  },
  {
   "cell_type": "markdown",
   "metadata": {},
   "source": [
    "## Save results"
   ]
  },
  {
   "cell_type": "code",
   "execution_count": 24,
   "metadata": {},
   "outputs": [],
   "source": [
    "with open(\"../../data/runningtime.pickle\", \"wb\") as f:\n",
    "    pickle.dump(res, f)"
   ]
  }
 ],
 "metadata": {
  "environment": {
   "name": "tf2-gpu.2-3.m69",
   "type": "gcloud",
   "uri": "gcr.io/deeplearning-platform-release/tf2-gpu.2-3:m69"
  },
  "kernelspec": {
   "display_name": "Python 3",
   "language": "python",
   "name": "python3"
  },
  "language_info": {
   "codemirror_mode": {
    "name": "ipython",
    "version": 3
   },
   "file_extension": ".py",
   "mimetype": "text/x-python",
   "name": "python",
   "nbconvert_exporter": "python",
   "pygments_lexer": "ipython3",
   "version": "3.7.10"
  }
 },
 "nbformat": 4,
 "nbformat_minor": 4
}
